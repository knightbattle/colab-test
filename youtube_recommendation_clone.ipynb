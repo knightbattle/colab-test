{
  "nbformat": 4,
  "nbformat_minor": 0,
  "metadata": {
    "colab": {
      "name": "youtube_recommendation_clone.ipynb",
      "provenance": [],
      "authorship_tag": "ABX9TyNEAWCLjz/5Jdx1cx+BpH9a",
      "include_colab_link": true
    },
    "kernelspec": {
      "name": "python3",
      "display_name": "Python 3"
    },
    "language_info": {
      "name": "python"
    }
  },
  "cells": [
    {
      "cell_type": "markdown",
      "metadata": {
        "id": "view-in-github",
        "colab_type": "text"
      },
      "source": [
        "<a href=\"https://colab.research.google.com/github/knightbattle/colab-test/blob/main/youtube_recommendation_clone.ipynb\" target=\"_parent\"><img src=\"https://colab.research.google.com/assets/colab-badge.svg\" alt=\"Open In Colab\"/></a>"
      ]
    },
    {
      "cell_type": "code",
      "metadata": {
        "id": "AsmQvrbeEUXJ"
      },
      "source": [
        "\n",
        "# youtube recommender test"
      ],
      "execution_count": null,
      "outputs": []
    }
  ]
}